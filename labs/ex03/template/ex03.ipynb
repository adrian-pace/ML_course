{
 "cells": [
  {
   "cell_type": "code",
   "execution_count": 2,
   "metadata": {
    "collapsed": false
   },
   "outputs": [],
   "source": [
    "# Useful starting lines\n",
    "%matplotlib inline\n",
    "import numpy as np\n",
    "import matplotlib.pyplot as plt\n",
    "%load_ext autoreload\n",
    "%autoreload 2"
   ]
  },
  {
   "cell_type": "markdown",
   "metadata": {},
   "source": [
    "# Least squares and linear basis functions models\n",
    "## Least squares"
   ]
  },
  {
   "cell_type": "code",
   "execution_count": 3,
   "metadata": {
    "collapsed": true
   },
   "outputs": [],
   "source": [
    "def least_squares(y, tx):\n",
    "    \"\"\"calculate the least squares solution.\"\"\"\n",
    "    w=np.linalg.inv(tx.T @ tx) @ tx.T @ y\n",
    "    e= y - (tx @ w)\n",
    "    mse=1/(2*y.shape[0])*(e.T @ e)\n",
    "    return w,mse"
   ]
  },
  {
   "cell_type": "markdown",
   "metadata": {},
   "source": [
    "### Load the data\n",
    "Here we will reuse the dataset `height_weight_genders.csv` from previous exercise section to check the correctness of your implementation. Please compare it with your previous result."
   ]
  },
  {
   "cell_type": "code",
   "execution_count": 4,
   "metadata": {
    "collapsed": false
   },
   "outputs": [
    {
     "ename": "ImportError",
     "evalue": "cannot import name 'grid_visualization'",
     "output_type": "error",
     "traceback": [
      "\u001b[1;31m---------------------------------------------------------------------------\u001b[0m",
      "\u001b[1;31mImportError\u001b[0m                               Traceback (most recent call last)",
      "\u001b[1;32m<ipython-input-4-1c14fcc3fbed>\u001b[0m in \u001b[0;36m<module>\u001b[1;34m()\u001b[0m\n\u001b[0;32m      1\u001b[0m \u001b[1;33m\u001b[0m\u001b[0m\n\u001b[1;32m----> 2\u001b[1;33m \u001b[1;32mfrom\u001b[0m \u001b[0mplots\u001b[0m \u001b[1;32mimport\u001b[0m \u001b[0mgrid_visualization\u001b[0m\u001b[1;33m\u001b[0m\u001b[0m\n\u001b[0m\u001b[0;32m      3\u001b[0m \u001b[1;32mimport\u001b[0m \u001b[0mdatetime\u001b[0m\u001b[1;33m\u001b[0m\u001b[0m\n\u001b[0;32m      4\u001b[0m \u001b[1;33m\u001b[0m\u001b[0m\n\u001b[0;32m      5\u001b[0m \u001b[1;32mimport\u001b[0m \u001b[0mdatetime\u001b[0m\u001b[1;33m\u001b[0m\u001b[0m\n",
      "\u001b[1;31mImportError\u001b[0m: cannot import name 'grid_visualization'"
     ]
    }
   ],
   "source": [
    "\n",
    "from plots import grid_visualization\n",
    "import datetime\n",
    "\n",
    "import datetime\n",
    "\n",
    "def test_your_least_squares():\n",
    "    height, weight, gender = load_data_from_ex02(sub_sample=False, add_outlier=False)\n",
    "    x, mean_x, std_x = standardize(height)\n",
    "    y, tx = build_model_data(x, weight)\n",
    "    \n",
    "    \n",
    "   \n",
    "\n",
    "    # Start the grid search\n",
    "    start_time = datetime.datetime.now()\n",
    "\n",
    "    # Select the best combinaison\n",
    "\n",
    "    w,mse=least_squares(y,tx)\n",
    "    loss_star, w0_star, w1_star = mse, w[0],w[1]\n",
    "\n",
    "    end_time = datetime.datetime.now()\n",
    "    execution_time = (end_time - start_time).total_seconds()\n",
    "\n",
    "    # Print the results\n",
    "    print(\"Least sqaures: loss*={l}, w0*={w0}, w1*={w1}, execution time={t:.3f} seconds\".format(\n",
    "          l=loss_star, w0=w0_star, w1=w1_star, t=execution_time))\n",
    "\n",
    "    # Plot the results\n",
    "    \n",
    "test_your_least_squares()"
   ]
  },
  {
   "cell_type": "markdown",
   "metadata": {},
   "source": [
    "## Least squares with a linear basis function model\n",
    "Start from this section, we will use the dataset `dataEx3.csv`.\n",
    "\n",
    "### Implement polynomial basis functions"
   ]
  },
  {
   "cell_type": "code",
   "execution_count": 25,
   "metadata": {
    "collapsed": false,
    "scrolled": true
   },
   "outputs": [
    {
     "name": "stdout",
     "output_type": "stream",
     "text": [
      "shape of x (50,)\n",
      "shape of y (50,)\n"
     ]
    }
   ],
   "source": [
    "# load dataset\n",
    "import helpers\n",
    "x, y = helpers.load_data()\n",
    "print(\"shape of x {}\".format(x.shape))\n",
    "print(\"shape of y {}\".format(y.shape))"
   ]
  },
  {
   "cell_type": "code",
   "execution_count": 26,
   "metadata": {
    "collapsed": false
   },
   "outputs": [],
   "source": [
    "import math\n",
    "def build_poly(x, degree):\n",
    "    \"\"\"polynomial basis functions for input data x, for j=0 up to j=degree.\"\"\"\n",
    "    poly=np.ones([x.shape[0],degree+1])\n",
    "    for i in range(0,x.shape[0]):\n",
    "        for j in range(1, degree+1):\n",
    "            poly[i][j]=math.pow(x[i],j)\n",
    "    return poly"
   ]
  },
  {
   "cell_type": "markdown",
   "metadata": {},
   "source": [
    "Let us play with polynomial regression. Note that we will use your implemented function `compute_mse`. Please copy and paste your implementation from exercise02."
   ]
  },
  {
   "cell_type": "code",
   "execution_count": 27,
   "metadata": {
    "collapsed": false
   },
   "outputs": [
    {
     "name": "stdout",
     "output_type": "stream",
     "text": [
      "(50,)\n",
      "Processing 1th experiment, degree=1, rmse=0.47187607963421874\n",
      "(50,)\n",
      "Processing 2th experiment, degree=3, rmse=0.25858277667737484\n",
      "(50,)\n",
      "Processing 3th experiment, degree=7, rmse=0.24965870360907202\n",
      "(50,)\n",
      "Processing 4th experiment, degree=12, rmse=1.3106193811101765\n"
     ]
    },
    {
     "data": {
      "image/png": "[encoded data removed]",
      "text/plain": [
       "<matplotlib.figure.Figure at 0x2a130fb6dd8>"
      ]
     },
     "metadata": {},
     "output_type": "display_data"
    }
   ],
   "source": [
    "from plots import *\n",
    "import math\n",
    "\n",
    "def compute_RMSE(y,tx,w):\n",
    "    e=y-(tx @ w)\n",
    "    return math.sqrt(1/y.shape[0]*(e @ e))\n",
    "\n",
    "def polynomial_regression():\n",
    "    \"\"\"Constructing the polynomial basis function expansion of the data,\n",
    "       and then running least squares regression.\"\"\"\n",
    "    # define parameters\n",
    "    degrees = [1, 3, 7, 12]\n",
    "    \n",
    "    # define the structure of figure\n",
    "    num_row = 2\n",
    "    num_col = 2\n",
    "    f, axs = plt.subplots(num_row, num_col)\n",
    "\n",
    "    for ind, degree in enumerate(degrees):\n",
    "        # ***************************************************\n",
    "        # INSERT YOUR CODE HERE\n",
    "        # form the data to do polynomial regression.: TODO\n",
    "        # ***************************************************\n",
    "        tx=build_poly(x,degree)\n",
    "        print(x.shape)\n",
    "        \n",
    "        \n",
    "        # ***************************************************\n",
    "        # INSERT YOUR CODE HERE\n",
    "        # least square and calculate rmse: TODO\n",
    "        # ***************************************************\n",
    "        weight,mse=least_squares(y,tx)\n",
    "        rmse=math.sqrt(2*mse)\n",
    "        \n",
    "\n",
    "        print(\"Processing {i}th experiment, degree={d}, rmse={loss}\".format(\n",
    "              i=ind + 1, d=degree, loss=rmse))\n",
    "        # plot fit\n",
    "        plot_fitted_curve(\n",
    "            y, x, weight, degree, axs[ind // num_col][ind % num_col])\n",
    "    plt.tight_layout()\n",
    "    plt.savefig(\"visualize_polynomial_regression\")\n",
    "    plt.show()\n",
    "\n",
    "\n",
    "polynomial_regression()"
   ]
  },
  {
   "cell_type": "markdown",
   "metadata": {},
   "source": [
    "# Evaluating model predication performance\n",
    "\n",
    "Let us show the train and test splits for various polynomial degrees. First of all, please fill in the function `split_data()`"
   ]
  },
  {
   "cell_type": "code",
   "execution_count": 28,
   "metadata": {
    "collapsed": true
   },
   "outputs": [],
   "source": [
    "def split_data(x, y, ratio, seed=1):\n",
    "    \"\"\"split the dataset based on the split ratio.\"\"\"\n",
    "    # set seed\n",
    "    np.random.seed(seed)\n",
    "    # ***************************************************\n",
    "    # INSERT YOUR CODE HERE\n",
    "    # split the data based on the given ratio: TODO\n",
    "    # ***************************************************\n",
    "    split_size=math.floor(x.shape[0]*ratio)\n",
    "    split_x=[]\n",
    "    split_y=[]\n",
    "    shuffle_indices = np.random.permutation(np.arange(y.shape[0]))\n",
    "    shuffled_y = y[shuffle_indices]\n",
    "    shuffled_tx = x[shuffle_indices]\n",
    "    return shuffled_tx[0:split_size],shuffled_y[0:split_size],shuffled_tx[split_size:],shuffled_y[split_size:]"
   ]
  },
  {
   "cell_type": "markdown",
   "metadata": {},
   "source": [
    "Then, test your `split_data` function below."
   ]
  },
  {
   "cell_type": "code",
   "execution_count": 29,
   "metadata": {
    "collapsed": false
   },
   "outputs": [
    {
     "name": "stdout",
     "output_type": "stream",
     "text": [
      "proportion=0.9, degree=1, Training RMSE=0.494, Testing RMSE=0.181\n",
      "proportion=0.9, degree=3, Training RMSE=0.264, Testing RMSE=0.206\n",
      "proportion=0.9, degree=7, Training RMSE=0.254, Testing RMSE=0.220\n",
      "proportion=0.9, degree=12, Training RMSE=1.442, Testing RMSE=1.483\n",
      "proportion=0.5, degree=1, Training RMSE=0.455, Testing RMSE=0.531\n",
      "proportion=0.5, degree=3, Training RMSE=0.239, Testing RMSE=0.296\n",
      "proportion=0.5, degree=7, Training RMSE=0.232, Testing RMSE=0.284\n",
      "proportion=0.5, degree=12, Training RMSE=1.210, Testing RMSE=1.708\n",
      "proportion=0.1, degree=1, Training RMSE=0.428, Testing RMSE=0.534\n",
      "proportion=0.1, degree=3, Training RMSE=0.085, Testing RMSE=0.460\n",
      "proportion=0.1, degree=7, Training RMSE=3.635, Testing RMSE=3.485\n",
      "proportion=0.1, degree=12, Training RMSE=9.286, Testing RMSE=23.782\n"
     ]
    }
   ],
   "source": [
    "def train_test_split_demo(x, y, degree, ratio, seed):\n",
    "    \"\"\"polynomial regression with different split ratios and different degrees.\"\"\"\n",
    "    # ***************************************************\n",
    "    # INSERT YOUR CODE HERE\n",
    "    # split the data, and return train and test data: TODO\n",
    "    # ***************************************************\n",
    "    train_x,train_y,test_x,test_y=split_data(x,y,ratio,seed)\n",
    "    \n",
    "    # ***************************************************\n",
    "    # INSERT YOUR CODE HERE\n",
    "    # form train and test data with polynomial basis function: TODO\n",
    "    # ***************************************************\n",
    "    train_tx=build_poly(train_x,degree)\n",
    "    test_tx=build_poly(test_x,degree)\n",
    "    # ***************************************************\n",
    "    # INSERT YOUR CODE HERE\n",
    "    # calcualte weight through least square.: TODO\n",
    "    # ***************************************************\n",
    "    weight,mse_train = least_squares(train_y,train_tx)\n",
    "    # ***************************************************\n",
    "    # INSERT YOUR CODE HERE\n",
    "    # calculate RMSE for train and test data,\n",
    "    # and store them in rmse_tr and rmse_te respectively: TODO\n",
    "    # ***************************************************\n",
    "    rmse_tr=compute_RMSE(train_y,train_tx,weight)\n",
    "    rmse_te=compute_RMSE(test_y,test_tx,weight)\n",
    "    print(\"proportion={p}, degree={d}, Training RMSE={tr:.3f}, Testing RMSE={te:.3f}\".format(\n",
    "          p=ratio, d=degree, tr=rmse_tr, te=rmse_te))\n",
    "\n",
    "seed = 6\n",
    "degrees = [1, 3, 7, 12]\n",
    "split_ratios = [0.9, 0.5, 0.1]\n",
    "\n",
    "for split_ratio in split_ratios:\n",
    "    for degree in degrees:\n",
    "        train_test_split_demo(x, y, degree, split_ratio, seed)"
   ]
  },
  {
   "cell_type": "markdown",
   "metadata": {},
   "source": [
    "# Ridge Regression\n",
    "Please fill in the function below."
   ]
  },
  {
   "cell_type": "code",
   "execution_count": 36,
   "metadata": {
    "collapsed": true
   },
   "outputs": [],
   "source": [
    "def ridge_regression(y, tx, lamb):\n",
    "    \"\"\"implement ridge regression.\"\"\"\n",
    "    return np.linalg.solve((tx.T @ tx)+lamb*np.identity(tx.shape[1]), tx.T @ y)\n",
    "    "
   ]
  },
  {
   "cell_type": "code",
   "execution_count": 37,
   "metadata": {
    "collapsed": false
   },
   "outputs": [
    {
     "name": "stdout",
     "output_type": "stream",
     "text": [
      "(25, 8)\n",
      "(25, 8)\n",
      "(25, 8)\n",
      "(25, 8)\n",
      "(25, 8)\n",
      "(25, 8)\n",
      "(25, 8)\n",
      "(25, 8)\n",
      "(25, 8)\n",
      "(25, 8)\n",
      "[0.23230638125284572, 0.23231964209865588, 0.23233566247306858, 0.23236079375084823, 0.2324304269765593, 0.2326243299915126, 0.23336885820482672, 0.23696429381519804, 0.2516881368318136, 0.2895071790923393]\n",
      "[0.2846864373553924, 0.28505664996851726, 0.2853478258089699, 0.28549030390348695, 0.2852747703140211, 0.28381573656331177, 0.27978830678245187, 0.2745138388007979, 0.2803797978325169, 0.31799972435308704]\n"
     ]
    },
    {
     "data": {
      "image/png": "[encoded data removed]",
      "text/plain": [
       "<matplotlib.figure.Figure at 0x2a131089f98>"
      ]
     },
     "metadata": {},
     "output_type": "display_data"
    }
   ],
   "source": [
    "def ridge_regression_demo(x, y, degree, ratio, seed):\n",
    "    \"\"\"ridge regression demo.\"\"\"\n",
    "    # define parameter\n",
    "    lambdas = np.logspace(-3, 1, 10)    \n",
    "    # ***************************************************\n",
    "    # INSERT YOUR CODE HERE\n",
    "    # split the data, and return train and test data: TODO\n",
    "    # ***************************************************\n",
    "    train_x,train_y,test_x,test_y=split_data(x,y,ratio,seed)\n",
    "    # ***************************************************\n",
    "    # INSERT YOUR CODE HERE\n",
    "    # form train and test data with polynomial basis function: TODO\n",
    "    # ***************************************************\n",
    "    train_tx=build_poly(train_x,degree)\n",
    "    test_tx=build_poly(test_x,degree)\n",
    "    # ***************************************************\n",
    "    # INSERT YOUR CODE HERE\n",
    "    # ridge regression with different lambda: TODO\n",
    "    # ***************************************************\n",
    "    rmse_tr=[]\n",
    "    rmse_te=[]\n",
    "    for l in lambdas:\n",
    "        weight = ridge_regression(train_y,train_tx,l)\n",
    "        rmse_tr.append(compute_RMSE(train_y,train_tx,weight))\n",
    "        rmse_te.append(compute_RMSE(test_y,test_tx,weight))\n",
    "    print(rmse_tr)\n",
    "    print(rmse_te)\n",
    "    plt.semilogx(lambdas, rmse_tr, color='b', marker='*', label=\"Train error\")\n",
    "    plt.semilogx(lambdas, rmse_te, color='r', marker='*', label=\"Test error\")\n",
    "    plt.xlabel(\"lambda\")\n",
    "    plt.ylabel(\"RMSE\")\n",
    "    plt.title(\"Ridge regression for polynomial degree \" + str(degree))\n",
    "    leg = plt.legend(loc=1, shadow=True)\n",
    "    leg.draw_frame(False)\n",
    "    plt.savefig(\"ridge_regression\")\n",
    "    \n",
    "seed = 6\n",
    "degree = 7\n",
    "split_ratio = 0.5\n",
    "ridge_regression_demo(x, y, degree, split_ratio, seed)"
   ]
  },
  {
   "cell_type": "code",
   "execution_count": 20,
   "metadata": {
    "collapsed": false
   },
   "outputs": [
    {
     "name": "stdout",
     "output_type": "stream",
     "text": [
      "[0.23231482487414307, 0.23233029576637437, 0.23235016312351903, 0.23239975082881315, 0.23253756302881365, 0.2329970825403182, 0.23516845379346116, 0.24484855378149153, 0.2747407519683711, 0.3237399466834683]\n",
      "[0.28493952575480136, 0.2852681922015511, 0.28546488240551005, 0.28541913641531325, 0.2845105253097259, 0.28140596768353376, 0.2759443198930907, 0.27578824928405465, 0.3023755149815194, 0.3521438508497725]\n"
     ]
    },
    {
     "ename": "TypeError",
     "evalue": "'NoneType' object is not iterable",
     "output_type": "error",
     "traceback": [
      "\u001b[1;31m---------------------------------------------------------------------------\u001b[0m",
      "\u001b[1;31mTypeError\u001b[0m                                 Traceback (most recent call last)",
      "\u001b[1;32m<ipython-input-20-55615a5973b8>\u001b[0m in \u001b[0;36m<module>\u001b[1;34m()\u001b[0m\n\u001b[0;32m     14\u001b[0m \u001b[0msplit_ratio\u001b[0m \u001b[1;33m=\u001b[0m \u001b[1;36m0.5\u001b[0m\u001b[1;33m\u001b[0m\u001b[0m\n\u001b[0;32m     15\u001b[0m \u001b[0mlambdas\u001b[0m \u001b[1;33m=\u001b[0m \u001b[0mnp\u001b[0m\u001b[1;33m.\u001b[0m\u001b[0mlogspace\u001b[0m\u001b[1;33m(\u001b[0m\u001b[1;33m-\u001b[0m\u001b[1;36m3\u001b[0m\u001b[1;33m,\u001b[0m \u001b[1;36m1\u001b[0m\u001b[1;33m,\u001b[0m \u001b[1;36m10\u001b[0m\u001b[1;33m)\u001b[0m\u001b[1;33m\u001b[0m\u001b[0m\n\u001b[1;32m---> 16\u001b[1;33m \u001b[0mrmse_tr\u001b[0m\u001b[1;33m,\u001b[0m\u001b[0mrmse_te\u001b[0m \u001b[1;33m=\u001b[0m \u001b[0mridge_regression_demo\u001b[0m\u001b[1;33m(\u001b[0m\u001b[0mx\u001b[0m\u001b[1;33m,\u001b[0m \u001b[0my\u001b[0m\u001b[1;33m,\u001b[0m \u001b[0mdegree\u001b[0m\u001b[1;33m,\u001b[0m \u001b[0msplit_ratio\u001b[0m\u001b[1;33m,\u001b[0m \u001b[0mseed\u001b[0m\u001b[1;33m)\u001b[0m\u001b[1;33m\u001b[0m\u001b[0m\n\u001b[0m\u001b[0;32m     17\u001b[0m \u001b[0mplot_train_test\u001b[0m\u001b[1;33m(\u001b[0m\u001b[0mrmse_tr\u001b[0m\u001b[1;33m,\u001b[0m \u001b[0mrmse_te\u001b[0m\u001b[1;33m,\u001b[0m \u001b[0mlambdas\u001b[0m\u001b[1;33m,\u001b[0m \u001b[0mdegree\u001b[0m\u001b[1;33m)\u001b[0m\u001b[1;33m\u001b[0m\u001b[0m\n",
      "\u001b[1;31mTypeError\u001b[0m: 'NoneType' object is not iterable"
     ]
    },
    {
     "data": {
      "image/png": "[encoded data removed]",
      "text/plain": [
       "<matplotlib.figure.Figure at 0x2a13103bb70>"
      ]
     },
     "metadata": {},
     "output_type": "display_data"
    }
   ],
   "source": [
    "def plot_train_test(train_errors, test_errors, lambdas, degree):\n",
    "    \"\"\"\n",
    "    train_errors, test_errors and lambas should be list (of the same size) the respective train error and test error for a given lambda,\n",
    "    * lambda[0] = 1\n",
    "    * train_errors[0] = RMSE of a ridge regression on the train set\n",
    "    * test_errors[0] = RMSE of the parameter found by ridge regression applied on the test set\n",
    "    \n",
    "    degree is just used for the title of the plot.\n",
    "    \"\"\"\n",
    "\n",
    "\n",
    "seed = 6\n",
    "degree = 7\n",
    "split_ratio = 0.5\n",
    "lambdas = np.logspace(-3, 1, 10)   \n",
    "rmse_tr,rmse_te = ridge_regression_demo(x, y, degree, split_ratio, seed)\n",
    "plot_train_test(rmse_tr, rmse_te, lambdas, degree)"
   ]
  },
  {
   "cell_type": "code",
   "execution_count": 42,
   "metadata": {
    "collapsed": true
   },
   "outputs": [],
   "source": []
  },
  {
   "cell_type": "code",
   "execution_count": 45,
   "metadata": {
    "collapsed": true
   },
   "outputs": [],
   "source": []
  },
  {
   "cell_type": "code",
   "execution_count": null,
   "metadata": {
    "collapsed": true
   },
   "outputs": [],
   "source": []
  }
 ],
 "metadata": {
  "anaconda-cloud": {},
  "kernelspec": {
   "display_name": "Python [Root]",
   "language": "python",
   "name": "Python [Root]"
  },
  "language_info": {
   "codemirror_mode": {
    "name": "ipython",
    "version": 3
   },
   "file_extension": ".py",
   "mimetype": "text/x-python",
   "name": "python",
   "nbconvert_exporter": "python",
   "pygments_lexer": "ipython3",
   "version": "3.5.2"
  }
 },
 "nbformat": 4,
 "nbformat_minor": 0
}

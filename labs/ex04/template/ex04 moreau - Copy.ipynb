{
 "cells": [
  {
   "cell_type": "code",
   "execution_count": 3,
   "metadata": {
    "collapsed": true
   },
   "outputs": [],
   "source": [
    "# Useful starting lines\n",
    "%matplotlib inline\n",
    "import numpy as np\n",
    "import matplotlib.pyplot as plt\n",
    "%load_ext autoreload\n",
    "%autoreload 2"
   ]
  },
  {
   "cell_type": "markdown",
   "metadata": {},
   "source": [
    "# Cross-Validation and Bias-Variance decomposition\n",
    "## Cross-Validation\n",
    "Implementing 4-fold cross-validation below:"
   ]
  },
  {
   "cell_type": "code",
   "execution_count": 4,
   "metadata": {
    "collapsed": true
   },
   "outputs": [],
   "source": [
    "from helpers import load_data\n",
    "\n",
    "# load dataset\n",
    "x, y = load_data()"
   ]
  },
  {
   "cell_type": "code",
   "execution_count": 5,
   "metadata": {
    "collapsed": false
   },
   "outputs": [],
   "source": [
    "def build_k_indices(y, k_fold, seed):\n",
    "    \"\"\"build k indices for k-fold.\"\"\"\n",
    "    num_row = y.shape[0]\n",
    "    interval = int(num_row / k_fold)\n",
    "    np.random.seed(seed)\n",
    "    indices = np.random.permutation(num_row)\n",
    "    k_indices = [indices[k * interval: (k + 1) * interval]\n",
    "                 for k in range(k_fold)]\n",
    "    return np.array(k_indices)"
   ]
  },
  {
   "cell_type": "code",
   "execution_count": 6,
   "metadata": {
    "collapsed": false
   },
   "outputs": [],
   "source": [
    "from costs import compute_mse\n",
    "from ridge_regression import ridge_regression\n",
    "from build_polynomial import build_poly\n",
    "\n",
    "def cross_validation(y, x, k_indices, k, lambda_, degree):\n",
    "    \"\"\"return the loss of ridge regression.\"\"\"\n",
    "    # ***************************************************\n",
    "    # get k'th subgroup in test, others in train\n",
    "    # ***************************************************\n",
    "    test_y = y[k_indices[k]]\n",
    "    test_x = x[k_indices[k]]\n",
    "    train_k_indices = k_indices[[i for i in range(len(k_indices)) if i != k]].ravel()\n",
    "    train_y = y[train_k_indices]\n",
    "    train_x = x[train_k_indices]\n",
    "    # ***************************************************\n",
    "    # form data with polynomial degree\n",
    "    # ***************************************************\n",
    "    phi_train_x = build_poly(train_x,degree)\n",
    "    phi_test_x = build_poly(test_x,degree)\n",
    "    # ***************************************************\n",
    "    # ridge regression\n",
    "    # ***************************************************\n",
    "    weight_training = ridge_regression(train_y, phi_train_x, lambda_)\n",
    "    # ***************************************************\n",
    "    # calculate the loss for train and test data\n",
    "    # ***************************************************\n",
    "    loss_tr = np.sqrt(2*compute_mse(train_y,phi_train_x,weight_training))\n",
    "    loss_te = np.sqrt(2*compute_mse(test_y,phi_test_x,weight_training))\n",
    "    return loss_tr, loss_te"
   ]
  },
  {
   "cell_type": "code",
   "execution_count": 7,
   "metadata": {
    "collapsed": false
   },
   "outputs": [
    {
     "data": {
      "image/png": "[encoded data removed]",
      "text/plain": [
       "<matplotlib.figure.Figure at 0x2c7a94282e8>"
      ]
     },
     "metadata": {},
     "output_type": "display_data"
    }
   ],
   "source": [
    "from plots import cross_validation_visualization\n",
    "\n",
    "def cross_validation_demo():\n",
    "    seed = 1\n",
    "    degree = 7\n",
    "    k_fold = 4\n",
    "    lambdas = np.logspace(-4, 2, 30)\n",
    "    # split data in k fold\n",
    "    k_indices = build_k_indices(y, k_fold, seed)\n",
    "    # define lists to store the loss of training data and test data\n",
    "    mse_tr = []\n",
    "    mse_te = []\n",
    "    # ***************************************************\n",
    "    # cross validation\n",
    "    # ***************************************************    \n",
    "    for lamb in lambdas:\n",
    "        losses_tr=[]\n",
    "        losses_te=[]\n",
    "        for k in range(len(k_indices)):\n",
    "            loss_tr, loss_te = cross_validation(y, x, k_indices, k, lamb, degree)\n",
    "            losses_tr.append(loss_tr)\n",
    "            losses_te.append(loss_te)\n",
    "        mse_tr.append(np.mean(losses_tr))\n",
    "        mse_te.append(np.mean(losses_te))\n",
    "    cross_validation_visualization(lambdas, mse_tr, mse_te)\n",
    "    \n",
    "cross_validation_demo()"
   ]
  },
  {
   "cell_type": "code",
   "execution_count": 8,
   "metadata": {
    "collapsed": false
   },
   "outputs": [
    {
     "name": "stdout",
     "output_type": "stream",
     "text": [
      "For d =  2 loss_tr =  0.465719981313 loss_te =  0.538998685824\n",
      "For d =  3 loss_tr =  0.290729355165 loss_te =  0.333229776732\n",
      "For d =  4 loss_tr =  0.26686940554 loss_te =  0.296038653311\n",
      "For d =  5 loss_tr =  0.257942022126 loss_te =  0.294746193811\n",
      "For d =  6 loss_tr =  0.258782216627 loss_te =  0.324583584801\n",
      "For d =  7 loss_tr =  0.25160701679 loss_te =  0.29178233291\n",
      "For d =  8 loss_tr =  0.251302031282 loss_te =  0.297875364181\n",
      "For d =  9 loss_tr =  0.250141754562 loss_te =  0.299941972094\n",
      "For d =  10 loss_tr =  0.248727552775 loss_te =  0.299474463132\n",
      "0.29178233291\n",
      "The optimal degree is  7\n"
     ]
    }
   ],
   "source": [
    "def cross_validate_multiple_degrees():\n",
    "    \"\"\"Use cross validate to obtain the optimal degree for ridge regression\"\"\"\n",
    "    seed = 1\n",
    "    degrees = range(2,11)\n",
    "    k_fold = 4\n",
    "    lambda_ = 1 #we fix the lambda\n",
    "    # split data in k fold\n",
    "    k_indices = build_k_indices(y, k_fold, seed)\n",
    "    # define lists to store the loss of training data and test data\n",
    "    mse_tr = []\n",
    "    mse_te = []\n",
    "    # ***************************************************\n",
    "    # cross validation\n",
    "    # ***************************************************    \n",
    "    for d in degrees:\n",
    "        loss_tr_acc = 0\n",
    "        loss_te_acc = 0\n",
    "        for k in range(len(k_indices)):\n",
    "            loss_tr, loss_te = cross_validation(y, x, k_indices, k, lambda_, d)\n",
    "            loss_tr_acc += loss_tr\n",
    "            loss_te_acc += loss_te\n",
    "        mse_tr.append(loss_tr_acc/len(k_indices))\n",
    "        mse_te.append(loss_te_acc/len(k_indices))\n",
    "        print(\"For d = \",d,\"loss_tr = \",mse_tr[-1],\"loss_te = \",mse_te[-1])\n",
    "    min_loss_te = np.amin(mse_te)\n",
    "    print(min_loss_te)\n",
    "    optimal_degree = mse_te.index(min_loss_te)+2\n",
    "    print(\"The optimal degree is \",optimal_degree)\n",
    "\n",
    "cross_validate_multiple_degrees()"
   ]
  },
  {
   "cell_type": "code",
   "execution_count": 9,
   "metadata": {
    "collapsed": false
   },
   "outputs": [
    {
     "name": "stdout",
     "output_type": "stream",
     "text": [
      "0.251302031282 0.00693767092423 0.297875364181 0.0102277053324\n"
     ]
    }
   ],
   "source": [
    "#========== variance using Cross validation \n",
    "def cross_validation_avg_variance():\n",
    "    seed = 1\n",
    "    k_fold = 4\n",
    "    lamb = 1\n",
    "    degree = 8\n",
    "    # split data in k fold\n",
    "    k_indices = build_k_indices(y, k_fold, seed)\n",
    "    # define lists to store the loss of training data and test data\n",
    "    # ***************************************************\n",
    "    # cross validation\n",
    "    # ***************************************************    \n",
    "    losses_tr =[]\n",
    "    losses_te = []\n",
    "    for k in range(len(k_indices)):\n",
    "        loss_tr, loss_te = cross_validation(y, x, k_indices, k, lamb, degree)\n",
    "        losses_tr.append(loss_tr)\n",
    "        losses_te.append(loss_te)\n",
    "    avg_tr = sum(losses_tr)/len(losses_tr)\n",
    "    avg_te = sum(losses_te)/len(losses_te)\n",
    "    var_tr = 0\n",
    "    var_te = 0\n",
    "    for i in range(len(losses_tr)):\n",
    "        var_tr += (losses_tr[i]-avg_tr)*(losses_tr[i]-avg_tr)\n",
    "        var_te += (losses_te[i]-avg_te)*(losses_te[i]-avg_te)\n",
    "    var_tr = np.sqrt(var_tr/(len(losses_tr)-1))\n",
    "    var_te = np.sqrt(var_te/(len(losses_te)-1))\n",
    "    return (avg_tr,var_tr,avg_te,var_te)\n",
    "\n",
    "avg_tr,var_tr,avg_te,var_te = cross_validation_avg_variance()\n",
    "print(avg_tr,var_tr,avg_te,var_te)"
   ]
  },
  {
   "cell_type": "markdown",
   "metadata": {},
   "source": [
    "## Bias-Variance Decomposition\n",
    "Visualize bias-variance trade-off by implementing the function `bias_variance_demo()` below:"
   ]
  },
  {
   "cell_type": "code",
   "execution_count": 11,
   "metadata": {
    "collapsed": false
   },
   "outputs": [
    {
     "ename": "ValueError",
     "evalue": "too many values to unpack (expected 2)",
     "output_type": "error",
     "traceback": [
      "\u001b[1;31m---------------------------------------------------------------------------\u001b[0m",
      "\u001b[1;31mValueError\u001b[0m                                Traceback (most recent call last)",
      "\u001b[1;32m<ipython-input-11-733da56732b2>\u001b[0m in \u001b[0;36m<module>\u001b[1;34m()\u001b[0m\n\u001b[0;32m     39\u001b[0m     \u001b[0mbias_variance_decomposition_visualization\u001b[0m\u001b[1;33m(\u001b[0m\u001b[0mdegrees\u001b[0m\u001b[1;33m,\u001b[0m \u001b[0mrmse_tr\u001b[0m\u001b[1;33m,\u001b[0m \u001b[0mrmse_te\u001b[0m\u001b[1;33m)\u001b[0m\u001b[1;33m\u001b[0m\u001b[0m\n\u001b[0;32m     40\u001b[0m \u001b[1;33m\u001b[0m\u001b[0m\n\u001b[1;32m---> 41\u001b[1;33m \u001b[0mbias_variance_demo\u001b[0m\u001b[1;33m(\u001b[0m\u001b[1;33m)\u001b[0m\u001b[1;33m\u001b[0m\u001b[0m\n\u001b[0m",
      "\u001b[1;32m<ipython-input-11-733da56732b2>\u001b[0m in \u001b[0;36mbias_variance_demo\u001b[1;34m()\u001b[0m\n\u001b[0;32m     22\u001b[0m         \u001b[1;31m# split data with a specific seed\u001b[0m\u001b[1;33m\u001b[0m\u001b[1;33m\u001b[0m\u001b[0m\n\u001b[0;32m     23\u001b[0m         \u001b[1;31m# ***************************************************\u001b[0m\u001b[1;33m\u001b[0m\u001b[1;33m\u001b[0m\u001b[0m\n\u001b[1;32m---> 24\u001b[1;33m         \u001b[0mtraining\u001b[0m\u001b[1;33m,\u001b[0m\u001b[0mtesting\u001b[0m \u001b[1;33m=\u001b[0m \u001b[0msplit_data\u001b[0m\u001b[1;33m(\u001b[0m\u001b[0mx\u001b[0m\u001b[1;33m,\u001b[0m \u001b[0my\u001b[0m\u001b[1;33m,\u001b[0m \u001b[0mratio_train\u001b[0m\u001b[1;33m,\u001b[0m \u001b[0mseed\u001b[0m\u001b[1;33m)\u001b[0m\u001b[1;33m\u001b[0m\u001b[0m\n\u001b[0m\u001b[0;32m     25\u001b[0m         \u001b[0mx_training\u001b[0m \u001b[1;33m=\u001b[0m \u001b[0mtraining\u001b[0m\u001b[1;33m[\u001b[0m\u001b[1;36m0\u001b[0m\u001b[1;33m]\u001b[0m\u001b[1;33m\u001b[0m\u001b[0m\n\u001b[0;32m     26\u001b[0m         \u001b[0my_training\u001b[0m \u001b[1;33m=\u001b[0m \u001b[0mtraining\u001b[0m\u001b[1;33m[\u001b[0m\u001b[1;36m1\u001b[0m\u001b[1;33m]\u001b[0m\u001b[1;33m\u001b[0m\u001b[0m\n",
      "\u001b[1;31mValueError\u001b[0m: too many values to unpack (expected 2)"
     ]
    }
   ],
   "source": [
    "from least_squares import least_squares\n",
    "from split_data import split_data\n",
    "from plots import bias_variance_decomposition_visualization\n",
    "\n",
    "def bias_variance_demo():\n",
    "    \"\"\"The entry.\"\"\"\n",
    "    # define parameters\n",
    "    seeds = range(100)\n",
    "    num_data = 10000\n",
    "    ratio_train = 0.005\n",
    "    degrees = range(1, 10)\n",
    "    \n",
    "    # define list to store the variable\n",
    "    rmse_tr = np.empty((len(seeds), len(degrees)))\n",
    "    rmse_te = np.empty((len(seeds), len(degrees)))\n",
    "    \n",
    "    for index_seed, seed in enumerate(seeds):\n",
    "        np.random.seed(seed)\n",
    "        x = np.linspace(0.1, 2 * np.pi, num_data)\n",
    "        y = np.sin(x) + 0.3 * np.random.randn(num_data).T\n",
    "        # ***************************************************\n",
    "        # split data with a specific seed\n",
    "        # ***************************************************\n",
    "        training,testing = split_data(x, y, ratio_train, seed)\n",
    "        x_training = training[0]\n",
    "        y_training = training[1]\n",
    "        x_testing = testing[0]\n",
    "        y_testing = testing[1]\n",
    "        # ***************************************************\n",
    "        # bias_variance_decomposition\n",
    "        # ***************************************************\n",
    "        for index_degree,degree in enumerate(degrees):\n",
    "            phi_train_x = build_poly(x_training,degree)\n",
    "            phi_test_x = build_poly(x_testing,degree)\n",
    "            mse,w = least_squares(y_training, phi_train_x)\n",
    "            rmse_tr[index_seed][index_degree] = np.sqrt(2*mse)\n",
    "            rmse_te[index_seed][index_degree] = np.sqrt(2*compute_mse(y_testing,phi_test_x,w))\n",
    "\n",
    "    bias_variance_decomposition_visualization(degrees, rmse_tr, rmse_te)\n",
    "\n",
    "bias_variance_demo()"
   ]
  },
  {
   "cell_type": "code",
   "execution_count": null,
   "metadata": {
    "collapsed": true
   },
   "outputs": [],
   "source": []
  }
 ],
 "metadata": {
  "anaconda-cloud": {},
  "kernelspec": {
   "display_name": "Python [Root]",
   "language": "python",
   "name": "Python [Root]"
  },
  "language_info": {
   "codemirror_mode": {
    "name": "ipython",
    "version": 3
   },
   "file_extension": ".py",
   "mimetype": "text/x-python",
   "name": "python",
   "nbconvert_exporter": "python",
   "pygments_lexer": "ipython3",
   "version": "3.5.2"
  }
 },
 "nbformat": 4,
 "nbformat_minor": 0
}
